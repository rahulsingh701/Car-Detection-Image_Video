{
 "cells": [
  {
   "cell_type": "code",
   "execution_count": 2,
   "id": "1c844097",
   "metadata": {
    "scrolled": true
   },
   "outputs": [
    {
     "ename": "ModuleNotFoundError",
     "evalue": "No module named 'cv2'",
     "output_type": "error",
     "traceback": [
      "\u001b[1;31m---------------------------------------------------------------------------\u001b[0m",
      "\u001b[1;31mModuleNotFoundError\u001b[0m                       Traceback (most recent call last)",
      "\u001b[1;32mC:\\Users\\RAHULS~1\\AppData\\Local\\Temp/ipykernel_3240/3048488543.py\u001b[0m in \u001b[0;36m<module>\u001b[1;34m\u001b[0m\n\u001b[0;32m      6\u001b[0m \u001b[1;32mfrom\u001b[0m \u001b[0mkeras\u001b[0m\u001b[1;33m.\u001b[0m\u001b[0mlayers\u001b[0m \u001b[1;32mimport\u001b[0m \u001b[0mFlatten\u001b[0m\u001b[1;33m\u001b[0m\u001b[1;33m\u001b[0m\u001b[0m\n\u001b[0;32m      7\u001b[0m \u001b[1;32mfrom\u001b[0m \u001b[0mkeras\u001b[0m\u001b[1;33m.\u001b[0m\u001b[0mlayers\u001b[0m \u001b[1;32mimport\u001b[0m \u001b[0mDense\u001b[0m\u001b[1;33m\u001b[0m\u001b[1;33m\u001b[0m\u001b[0m\n\u001b[1;32m----> 8\u001b[1;33m \u001b[1;32mimport\u001b[0m \u001b[0mos\u001b[0m\u001b[1;33m,\u001b[0m \u001b[0mcv2\u001b[0m\u001b[1;33m\u001b[0m\u001b[1;33m\u001b[0m\u001b[0m\n\u001b[0m\u001b[0;32m      9\u001b[0m \u001b[1;32mimport\u001b[0m \u001b[0mglob\u001b[0m\u001b[1;33m\u001b[0m\u001b[1;33m\u001b[0m\u001b[0m\n\u001b[0;32m     10\u001b[0m \u001b[1;32mfrom\u001b[0m \u001b[0msklearn\u001b[0m\u001b[1;33m.\u001b[0m\u001b[0mutils\u001b[0m \u001b[1;32mimport\u001b[0m \u001b[0mshuffle\u001b[0m\u001b[1;33m\u001b[0m\u001b[1;33m\u001b[0m\u001b[0m\n",
      "\u001b[1;31mModuleNotFoundError\u001b[0m: No module named 'cv2'"
     ]
    }
   ],
   "source": [
    "from keras import regularizers\n",
    "from keras.models import Sequential\n",
    "from keras.layers import Conv2D\n",
    "from keras.layers import Activation, BatchNormalization, Dropout, Flatten, Dense\n",
    "from keras.layers import MaxPooling2D\n",
    "from keras.layers import Flatten\n",
    "from keras.layers import Dense\n",
    "import os, cv2\n",
    "import glob\n",
    "from sklearn.utils import shuffle\n",
    "from sklearn.model_selection import train_test_split\n",
    "# from keras.models import load_model\n",
    "import numpy as np\n",
    "from keras.models import model_from_json\n",
    "from keras.models import load_model\n",
    "from numpy.core.multiarray import ndarray"
   ]
  },
  {
   "cell_type": "code",
   "execution_count": null,
   "id": "f051c547",
   "metadata": {},
   "outputs": [],
   "source": [
    "\n",
    "epochs = 2\n",
    "img_data_list = []\n",
    "labels_list = []\n",
    "PATH = os.getcwd()\n",
    "data_path = PATH + '/car'\n",
    "data_dir_list = os.listdir(data_path)\n",
    "for i, label in enumerate(data_dir_list):\n",
    "    cur_path = data_path + '/' + label\n",
    "    #print(\"current path\")\n",
    "    #print(cur_path)\n",
    "    a = sorted(glob.glob(cur_path))\n",
    "    j = 1  # type: int\n",
    "    #print(\"a\")\n",
    "    #print(a)\n",
    "\n",
    "    for img in a:\n",
    "        #print(img)\n",
    "        try:\n",
    "            input_img = cv2.imread(img,0)\n",
    "            input_img_resize = cv2.resize(input_img, (64, 64))\n",
    "        except Exception as e:\n",
    "            print(str(e))\n",
    "        #print(\"inp-img\")\n",
    "        #print(input_img)\n",
    "        #print(input_img.shape)\n",
    "        #input_img = cv2.cvtColor(input_img, cv2.COLOR_BGR2GRAY)\n",
    "        #input_img_resize = cv2.resize(input_img, (64, 64))\n",
    "\n",
    "        #print(input_img_resize.shape)\n",
    "        #\n",
    "        if img[10] == 'C':\n",
    "            labels_list.append('0')\n",
    "        else:\n",
    "            labels_list.append('1')\n",
    "        img_data_list.append(input_img_resize)"
   ]
  },
  {
   "cell_type": "code",
   "execution_count": null,
   "id": "c28313bb",
   "metadata": {},
   "outputs": [],
   "source": [
    "img_data = np.array(img_data_list)\n",
    "img_data = img_data.astype('float32')\n",
    "img_data /= 255\n",
    "print(img_data.shape)\n",
    "# print(labels_list)\n",
    "labels = np.array(labels_list)\n",
    "# print the count of number of samples for different classes\n",
    "print(np.unique(labels, return_counts=True))\n",
    "# convert class labels to on-hot encoding\n",
    "# Y = np_utils.to_categorical(labels, num_classes)\n",
    "# Shuffle the dataset\n",
    "x, y = shuffle(img_data, labels, random_state=4)\n",
    "x = np.expand_dims(x, axis=1).reshape(-1, 64, 64, 1)\n",
    "# Split the dataset\n",
    "training_set, test_set, train_label, test_label = train_test_split(x, y, test_size=0.2, random_state=2)"
   ]
  },
  {
   "cell_type": "code",
   "execution_count": null,
   "id": "74e2690e",
   "metadata": {},
   "outputs": [],
   "source": [
    "classifier = Sequential()\n",
    "# Step 1 - Convolution\n",
    "classifier.add(Conv2D(32, (3, 3), input_shape=(64, 64, 1), activation='relu'))\n",
    "# Step 2 - Pooling\n",
    "classifier.add(MaxPooling2D(pool_size=(2, 2)))\n",
    "classifier.add(BatchNormalization())\n",
    "classifier.add(Dropout(0.1))\n",
    "# Adding a second convolutional layer(changed to 64)\n",
    "classifier.add(Conv2D(64, (3, 3), activation='relu'))\n",
    "classifier.add(MaxPooling2D(pool_size=(2, 2)))\n",
    "classifier.add(BatchNormalization())\n",
    "classifier.add(Dropout(0.15))\n",
    "# i added a convolution layer cos accuracy wasnt changing\n",
    "classifier.add(Conv2D(64, (3, 3), activation='relu'))\n",
    "classifier.add(MaxPooling2D(pool_size=(2, 2)))\n",
    "# Step 3 - Flattening\n",
    "classifier.add(Flatten())\n",
    "classifier.add(BatchNormalization())\n",
    "classifier.add(Dropout(0.2))\n",
    "# Step 4 - Full connection\n",
    "classifier.add(Dense(units=128, activation='relu'))\n",
    "classifier.add(Dense(units=1, activation='sigmoid'))\n",
    "\n",
    "classifier.compile(optimizer='adam', loss='binary_crossentropy', metrics=['accuracy'])\n",
    "classifier.fit(training_set, train_label, batch_size=256, epochs=14, validation_data=(test_set, test_label))"
   ]
  },
  {
   "cell_type": "code",
   "execution_count": null,
   "id": "372cb7e0",
   "metadata": {},
   "outputs": [],
   "source": [
    "classifier.save('model1.hdf5')"
   ]
  }
 ],
 "metadata": {
  "kernelspec": {
   "display_name": "Python 3 (ipykernel)",
   "language": "python",
   "name": "python3"
  },
  "language_info": {
   "codemirror_mode": {
    "name": "ipython",
    "version": 3
   },
   "file_extension": ".py",
   "mimetype": "text/x-python",
   "name": "python",
   "nbconvert_exporter": "python",
   "pygments_lexer": "ipython3",
   "version": "3.7.9"
  }
 },
 "nbformat": 4,
 "nbformat_minor": 5
}
